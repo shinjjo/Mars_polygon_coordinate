{
 "cells": [
  {
   "cell_type": "markdown",
   "metadata": {
    "slideshow": {
     "slide_type": "slide"
    }
   },
   "source": [
    "<h1>Geo-bibliometrics</h1>\n",
    "<h4>Integration of bibliographic openly accessible databases and location-, feature, and geographic-based search and discovery of scientific literature</h4>\n",
    "<h3><font color = \"Grey\">Jacobs University Fall 2017</h3>\n",
    "<h2><font color = \"Grey\">Jaeho Shin</h2>"
   ]
  },
  {
   "cell_type": "markdown",
   "metadata": {
    "slideshow": {
     "slide_type": "slide"
    }
   },
   "source": [
    "<h2>My Plan for the Project</h2>\n",
    "<ol>\n",
    "    <li>Background</li>\n",
    "    <li>Query Definition</li>\n",
    "    <li>Query from ADS API</li>\n",
    "    <li>Building Geo-Table with</li>\n",
    "    <ol><li>Multi-polygon coordinates</li>\n",
    "    <li>List of publications</li></ol>\n",
    "    <li>Visualization Mapping of Geo-Table</li>\n",
    "    <li>Data Observation</li>\n",
    "    <li>Conclusion</li>\n",
    "</ol>"
   ]
  },
  {
   "cell_type": "code",
   "execution_count": 2,
   "metadata": {
    "scrolled": false,
    "slideshow": {
     "slide_type": "slide"
    }
   },
   "outputs": [
    {
     "data": {
      "text/html": [
       "<iframe width=\"800\" height=\"600\" src=\"https://planetarynames.wr.usgs.gov/Feature/5931;jsessionid=B3FF5112EDAF5866E6836D2C05E63DD3\" frameborder=\"0\" allowfullscreen></iframe>"
      ],
      "text/plain": [
       "<IPython.core.display.HTML object>"
      ]
     },
     "execution_count": 2,
     "metadata": {},
     "output_type": "execute_result"
    }
   ],
   "source": [
    "from IPython.display import HTML\n",
    "HTML('<iframe width=\"800\" height=\"600\" src=\"https://planetarynames.wr.usgs.gov/Feature/5931;jsessionid=B3FF5112EDAF5866E6836D2C05E63DD3\" frameborder=\"0\" allowfullscreen></iframe>')"
   ]
  },
  {
   "cell_type": "markdown",
   "metadata": {
    "slideshow": {
     "slide_type": "slide"
    }
   },
   "source": [
    "<h1>Background</h1>\n",
    "<ul>\n",
    "<h3><li>The reason why I choose this topic</li></h3>\n",
    "<h3><li>Object of Research</li></h3>\n",
    "<h3><li>Query has scientific meaning</li></h3></ul>"
   ]
  },
  {
   "cell_type": "markdown",
   "metadata": {
    "collapsed": true,
    "slideshow": {
     "slide_type": "slide"
    }
   },
   "source": [
    "<h1>Query Definition</h1>\n",
    "<h2>Examples</h2>\n",
    "<ul><li>Mars Landing Sites</li>\n",
    "<li>Feature Type</li>\n",
    "<ul><li>Plantia</li><li>Albedo</li><li>Collis</li><li>Vallis</li></ul>\n",
    "<li>Topography</li><ul><li>Ridges</li><li>Plains</li><li>Mountains</li></ul>\n",
    "</ul>"
   ]
  },
  {
   "cell_type": "code",
   "execution_count": 38,
   "metadata": {
    "slideshow": {
     "slide_type": "subslide"
    }
   },
   "outputs": [
    {
     "data": {
      "text/html": [
       "<iframe width=\"800\" height=\"600\" src=\"https://www.google.com/mars/glossary.html\" frameborder=\"0\" allowfullscreen></iframe>"
      ],
      "text/plain": [
       "<IPython.core.display.HTML object>"
      ]
     },
     "execution_count": 38,
     "metadata": {},
     "output_type": "execute_result"
    }
   ],
   "source": [
    "from IPython.display import HTML\n",
    "HTML('<iframe width=\"800\" height=\"600\" src=\"https://www.google.com/mars/glossary.html\" frameborder=\"0\" allowfullscreen></iframe>')"
   ]
  },
  {
   "cell_type": "markdown",
   "metadata": {
    "slideshow": {
     "slide_type": "slide"
    }
   },
   "source": [
    "<h1><font color = \"grey\">Query from ADS API</h1>\n",
    "<h3><font color = \"grey\">an Example</h3>"
   ]
  },
  {
   "cell_type": "code",
   "execution_count": 36,
   "metadata": {
    "slideshow": {
     "slide_type": "subslide"
    }
   },
   "outputs": [
    {
     "name": "stdout",
     "output_type": "stream",
     "text": [
      "['The search for organic substances and inorganic volatile compounds in the surface of Mars']\n",
      "['Inorganic Analyses of Martian Surface Samples at the Viking Landing Sites']\n",
      "['Mineralogic and Petrologic Implications of Viking Geochemical Results From Mars: Interim Report']\n",
      "['Viking landing sites, remote-sensing observations, and physical properties of Martian surface materials']\n",
      "['Soil and Surface Temperatures at the Viking Landing Sites']\n",
      "['Preliminary Results from the Viking Orbiter Imaging Experiment']\n",
      "['Geology of Chryse Planitia']\n",
      "['Selection of the Mars Science Laboratory Landing Site']\n",
      "['Viking Labeled Release Biology Experiment: Interim Results']\n",
      "['The Surface of Mars: The View from the Viking 2 Lander']\n",
      "['Search for the Viking 2 Landing Site']\n",
      "['Are the Viking Lander sites representative of the surface of Mars?']\n",
      "['Geological observations in the Cydonia region of Mars from Viking']\n",
      "['The Viking Landing Sites: Selection and Certification']\n",
      "['Radar Characteristics of Viking 1 Landing Sites']\n",
      "['Arecibo radar observations of Mars surface characteristics in the northern hemisphere']\n",
      "['Composition and stability of the condensate observed at the Viking lander 2 site on Mars']\n",
      "['Arecibo radar observations of Martian surface characteristics near the equator']\n",
      "['The Environs of Viking 2 Lander']\n",
      "['Martian intrusions: Possible sites and implications']\n",
      "['Spectral properties (0.40 to 0.75 microns) of soils exposed at the Viking 1 landing site.']\n",
      "['The First Viking Mission to Mars']\n",
      "['Seasonal and diurnal variations in Martian surface ultraviolet irradiation: biological and chemical implications for the Martian regolith']\n",
      "['Landing induced dust clouds on Venus and Mars.']\n",
      "['Site-certification imaging sensor for the exploration of Mars']\n",
      "['Viking Lander Location and Spin Axis of Mars: Determination from Radio Tracking Data']\n",
      "['Surface-material maps of Viking landing sites on Mars']\n",
      "['Argon Content of the Martian Atmosphere at the Viking 1 Landing Site: Analysis by X-ray Fluorescence Spectroscopy']\n",
      "['Status of the Viking Missions']\n",
      "[\"Fluvial Processes in Ma'adim Vallis and the Potential of Gusev Crater as a High Priority\"]\n",
      "['Mars landing site catalog']\n",
      "['Comment on \"Spectrophotometric and color estimates of the Viking lander sites\" by F. O. Huck et al.']\n",
      "['Mars Surveyor 2001 Landing Site Workshop']\n",
      "['Potential landing sites for Mars Pathfinder']\n",
      "['Strategy for selecting Mars Pathfinder landing sites']\n",
      "['Precision landing on Mars using imaging penetrator beacons']\n",
      "['Mars Exobiology Landing Sites for Future Exploration']\n",
      "['A project for the retrieval from Mars of soil samples taken by the Mars rover - A model for systematizing investigation findings for the case of large valleys']\n",
      "['Viking Site Selection and Certification']\n",
      "['Sifting for life in the sands of Mars.']\n",
      "['Analysis of the relief conditions in the landing region of the reentry vehicle of the automatic interplanetary station Mars 6.']\n",
      "['Mars 2003: Site Priorities for Astrobiology']\n",
      "['The Mars Pathfinder Mission and Science Results']\n",
      "['Scientific rationale for selecting northwest Isidis Planitia (14 deg - 17 deg N latitude, 278 deg - 281 deg longitude) as a potential Mars Pathfinder landing site']\n",
      "['Rationale for a Mars Pathfinder mission to Chryse Planitia and the Viking 1 lander']\n",
      "['Rationale for Isidis Planitia as a back-up landing site for the Mars Pathfinder mission']\n",
      "['Opportunity to sample something different: The dark, unweathered, mafic sands of Cerberus and the Pathfinder 1997 Mars landing']\n",
      "['Exobiology site priorities for Mars Pathfinder']\n",
      "['Optimal parking orbits for manned Mars missions']\n",
      "[\"Dielectric Properties of Mars' Surface: Proposed Measurement on a Mars Lander\"]\n"
     ]
    }
   ],
   "source": [
    "import ads\n",
    "ads.config.token = 'PMDPBZAsfvom5fAUBHynH5MGuN0MeoFCr5v0mkuf'\n",
    "papers = ads.SearchQuery(keyword=\"landing sites mars\", sort=\"citation_count\")\n",
    "for paper in papers:\n",
    "    print(paper.title)"
   ]
  },
  {
   "cell_type": "markdown",
   "metadata": {
    "slideshow": {
     "slide_type": "slide"
    }
   },
   "source": [
    "<h1>Building Geo-Table with</h1>\n",
    "<ul><li>Multi-polygon coordinates</li>\n",
    "<li>List of publications</li></ul></ul>"
   ]
  },
  {
   "cell_type": "code",
   "execution_count": 19,
   "metadata": {
    "scrolled": true,
    "slideshow": {
     "slide_type": "slide"
    }
   },
   "outputs": [
    {
     "name": "stdout",
     "output_type": "stream",
     "text": [
      "url to call: https://planetarynames.wr.usgs.gov/Feature/1302\n",
      "feature found: Coprates Chasma\n"
     ]
    }
   ],
   "source": [
    "from bs4 import BeautifulSoup\n",
    "import requests\n",
    "import re\n",
    "import pandas as pd\n",
    "import ogr\n",
    "#%pylab inline\n",
    "\n",
    "#send feature name\n",
    "name = \"Bahram Vallis\"\n",
    "name =  \"1302\" #Olympus Mons - Method can't handle spaces. Requested a fix\n",
    "\n",
    "#IAU nomenclture URL\n",
    "urlIAU = \"https://planetarynames.wr.usgs.gov/Feature/\"\n",
    "url = urlIAU + name\n",
    "print (\"url to call: \" + url)\n",
    "\n",
    "#request html page from USGS gaz.\n",
    "r = requests.get(url)\n",
    "data = r.text\n",
    "soup = BeautifulSoup(data, \"lxml\")\n",
    "feature_panel = soup.findAll('table', {'class': 'feature_detail'})\n",
    "for feature in feature_panel:\n",
    "    try:\n",
    "        name = feature.find('h2').text\n",
    "        print (\"feature found: \" + name)\n",
    "    except AttributeError:\n",
    "        continue\n",
    "list1 = soup.body.findAll(text=re.compile('MULTIPOLYGON'))"
   ]
  },
  {
   "cell_type": "code",
   "execution_count": 22,
   "metadata": {
    "collapsed": true,
    "slideshow": {
     "slide_type": "subslide"
    }
   },
   "outputs": [],
   "source": [
    "str1 = ''.join(list1)\n",
    "#print alist\n",
    "splitList = str1.split('\\n')\n",
    "for item in splitList:\n",
    "    if item.find(\"MULTIPOLYGON\") != -1:\n",
    "        geomStr = item.split('\\'')[1]\n",
    "geomOGR = ogr.CreateGeometryFromWkt(geomStr)\n",
    "from matplotlib import pylab\n",
    "import json"
   ]
  },
  {
   "cell_type": "code",
   "execution_count": 31,
   "metadata": {
    "slideshow": {
     "slide_type": "subslide"
    }
   },
   "outputs": [
    {
     "name": "stdout",
     "output_type": "stream",
     "text": [
      "Populating the interactive namespace from numpy and matplotlib\n"
     ]
    },
    {
     "data": {
      "image/png": "[encoded data removed]",
      "text/plain": [
       "<matplotlib.figure.Figure at 0x7ff24b36b160>"
      ]
     },
     "metadata": {},
     "output_type": "display_data"
    }
   ],
   "source": [
    "%pylab inline\n",
    "figsize(6,6)\n",
    "coords = json.loads(geomOGR.ExportToJson())['coordinates'][0]\n",
    "x = [i for i,j in coords[0]]\n",
    "y = [j for i,j in coords[0]]\n",
    "\n",
    "plot(x, y, 'b')\n",
    "pylab.xlabel('Longitude')\n",
    "pylab.ylabel('Latitude')\n",
    "pylab.title('Feature : ' + name)\n",
    "grid()"
   ]
  },
  {
   "cell_type": "code",
   "execution_count": 3,
   "metadata": {
    "slideshow": {
     "slide_type": "slide"
    }
   },
   "outputs": [
    {
     "data": {
      "text/html": [
       "<iframe width=\"800\" height=\"600\" src=\"https://shinjjo.carto.com/builder/e90660bf-7882-400b-be20-c35ed8c8ffc2/embed\" frameborder=\"0\" allowfullscreen></iframe>"
      ],
      "text/plain": [
       "<IPython.core.display.HTML object>"
      ]
     },
     "execution_count": 3,
     "metadata": {},
     "output_type": "execute_result"
    }
   ],
   "source": [
    "from IPython.display import HTML\n",
    "HTML('<iframe width=\"800\" height=\"600\" src=\"https://shinjjo.carto.com/builder/e90660bf-7882-400b-be20-c35ed8c8ffc2/embed\" frameborder=\"0\" allowfullscreen></iframe>')"
   ]
  },
  {
   "cell_type": "markdown",
   "metadata": {
    "slideshow": {
     "slide_type": "slide"
    }
   },
   "source": [
    "<h2><font color = \"grey\">What am I going to do</h2>\n",
    "<ol>\n",
    "    <li>Building Geo-Table with</li>\n",
    "    <ol><li>Multi-polygon coordinates</li>\n",
    "    <li>List of publications</li></ol>\n",
    "    <li>Visualization Mapping of Geo-Table</li>\n",
    "    <li>Data Observation</li>\n",
    "</ol>"
   ]
  },
  {
   "cell_type": "markdown",
   "metadata": {
    "slideshow": {
     "slide_type": "slide"
    }
   },
   "source": [
    "<h1>What I am Struggling</h1>\n",
    "<ul>\n",
    "<li>Converting Polygon Coordinates to geojson format</li>\n",
    "<li>Mapping Polygon coordinates</li>"
   ]
  }
 ],
 "metadata": {
  "celltoolbar": "Slideshow",
  "kernelspec": {
   "display_name": "Python 3",
   "language": "python",
   "name": "python3"
  },
  "language_info": {
   "codemirror_mode": {
    "name": "ipython",
    "version": 3
   },
   "file_extension": ".py",
   "mimetype": "text/x-python",
   "name": "python",
   "nbconvert_exporter": "python",
   "pygments_lexer": "ipython3",
   "version": "3.6.2"
  }
 },
 "nbformat": 4,
 "nbformat_minor": 2
}
